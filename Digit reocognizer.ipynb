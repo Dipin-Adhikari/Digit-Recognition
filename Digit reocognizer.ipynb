{
 "cells": [
  {
   "cell_type": "code",
   "execution_count": 3,
   "source": [
    "import cv2\r\n",
    "import numpy as np \r\n",
    "from tensorflow.python.keras.datasets import mnist\r\n",
    "import matplotlib.pyplot as plt\r\n",
    "from keras.layers import Dense, Conv2D, AveragePooling2D, Flatten, MaxPool2D, Dropout\r\n",
    "from tensorflow.python.keras import Sequential"
   ],
   "outputs": [],
   "metadata": {}
  },
  {
   "cell_type": "code",
   "execution_count": 4,
   "source": [
    "(x_train, y_train), (x_test, y_test) = mnist.load_data()"
   ],
   "outputs": [],
   "metadata": {}
  },
  {
   "cell_type": "code",
   "execution_count": 5,
   "source": [
    "x_train = x_train.reshape(-1, 28, 28, 1)\r\n",
    "x_test = x_test.reshape(-1, 28, 28, 1)"
   ],
   "outputs": [],
   "metadata": {}
  },
  {
   "cell_type": "code",
   "execution_count": 6,
   "source": [
    "x_train.shape"
   ],
   "outputs": [
    {
     "output_type": "execute_result",
     "data": {
      "text/plain": [
       "(60000, 28, 28, 1)"
      ]
     },
     "metadata": {},
     "execution_count": 6
    }
   ],
   "metadata": {}
  },
  {
   "cell_type": "code",
   "execution_count": 7,
   "source": [
    "plt.imshow(x_train[0], cmap='gray')\r\n",
    "plt.title(y_train[0])\r\n",
    "plt.show()"
   ],
   "outputs": [
    {
     "output_type": "display_data",
     "data": {
      "image/png": "[encoded data removed]",
      "text/plain": [
       "<Figure size 432x288 with 1 Axes>"
      ]
     },
     "metadata": {
      "needs_background": "light"
     }
    }
   ],
   "metadata": {}
  },
  {
   "cell_type": "code",
   "execution_count": 8,
   "source": [
    "x_train = x_train.reshape((-1, 28, 28, 1))"
   ],
   "outputs": [],
   "metadata": {}
  },
  {
   "cell_type": "code",
   "execution_count": 9,
   "source": [
    "x_train.shape"
   ],
   "outputs": [
    {
     "output_type": "execute_result",
     "data": {
      "text/plain": [
       "(60000, 28, 28, 1)"
      ]
     },
     "metadata": {},
     "execution_count": 9
    }
   ],
   "metadata": {}
  },
  {
   "cell_type": "code",
   "execution_count": 10,
   "source": [
    "model = Sequential()\r\n",
    "\r\n",
    "model.add(Conv2D(filters=60, kernel_size=(5, 5), input_shape=(28, 28, 1), activation='relu'))\r\n",
    "\r\n",
    "model.add(Conv2D(filters=60, kernel_size=(5, 5), activation='relu'))\r\n",
    "model.add(MaxPool2D(pool_size=(2, 2)))\r\n",
    "\r\n",
    "model.add(Conv2D(filters=30, kernel_size=(3, 3), activation='relu'))\r\n",
    "model.add(Conv2D(filters=30, kernel_size=(3, 3), activation='relu'))\r\n",
    "\r\n",
    "model.add(MaxPool2D(pool_size=(2, 2)))\r\n",
    "\r\n",
    "model.add(Dropout(0.5))\r\n",
    "model.add(Flatten())\r\n",
    "model.add(Dense(500, activation='relu'))\r\n",
    "\r\n",
    "model.add(Dropout(0.5))\r\n",
    "model.add(Dense(10, activation='softmax'))\r\n",
    "\r\n",
    "model.compile(loss=\"sparse_categorical_crossentropy\", optimizer='adam', metrics=['acc'])\r\n",
    "\r\n",
    "model.summary()"
   ],
   "outputs": [
    {
     "output_type": "stream",
     "name": "stdout",
     "text": [
      "Model: \"sequential\"\n",
      "_________________________________________________________________\n",
      "Layer (type)                 Output Shape              Param #   \n",
      "=================================================================\n",
      "conv2d (Conv2D)              (None, 24, 24, 60)        1560      \n",
      "_________________________________________________________________\n",
      "conv2d_1 (Conv2D)            (None, 20, 20, 60)        90060     \n",
      "_________________________________________________________________\n",
      "max_pooling2d (MaxPooling2D) (None, 10, 10, 60)        0         \n",
      "_________________________________________________________________\n",
      "conv2d_2 (Conv2D)            (None, 8, 8, 30)          16230     \n",
      "_________________________________________________________________\n",
      "conv2d_3 (Conv2D)            (None, 6, 6, 30)          8130      \n",
      "_________________________________________________________________\n",
      "max_pooling2d_1 (MaxPooling2 (None, 3, 3, 30)          0         \n",
      "_________________________________________________________________\n",
      "dropout (Dropout)            (None, 3, 3, 30)          0         \n",
      "_________________________________________________________________\n",
      "flatten (Flatten)            (None, 270)               0         \n",
      "_________________________________________________________________\n",
      "dense (Dense)                (None, 500)               135500    \n",
      "_________________________________________________________________\n",
      "dropout_1 (Dropout)          (None, 500)               0         \n",
      "_________________________________________________________________\n",
      "dense_1 (Dense)              (None, 10)                5010      \n",
      "=================================================================\n",
      "Total params: 256,490\n",
      "Trainable params: 256,490\n",
      "Non-trainable params: 0\n",
      "_________________________________________________________________\n"
     ]
    }
   ],
   "metadata": {}
  },
  {
   "cell_type": "code",
   "execution_count": 11,
   "source": [
    "history = model.fit(\r\n",
    "    x_train, y_train,\r\n",
    "    steps_per_epoch=2000,\r\n",
    "    epochs=20,\r\n",
    "    validation_data=(x_test, y_test),\r\n",
    "    shuffle=False\r\n",
    ")"
   ],
   "outputs": [
    {
     "output_type": "stream",
     "name": "stdout",
     "text": [
      "Epoch 1/20\n",
      "2000/2000 [==============================] - 145s 72ms/step - loss: 0.4293 - acc: 0.8751 - val_loss: 0.1472 - val_acc: 0.9581\n",
      "Epoch 2/20\n",
      "2000/2000 [==============================] - 138s 69ms/step - loss: 0.1622 - acc: 0.9529 - val_loss: 0.0828 - val_acc: 0.9749\n",
      "Epoch 3/20\n",
      "2000/2000 [==============================] - 139s 69ms/step - loss: 0.1338 - acc: 0.9610 - val_loss: 0.0829 - val_acc: 0.9743\n",
      "Epoch 4/20\n",
      "2000/2000 [==============================] - 399s 200ms/step - loss: 0.1230 - acc: 0.9645 - val_loss: 0.0654 - val_acc: 0.9798\n",
      "Epoch 5/20\n",
      "2000/2000 [==============================] - 132s 66ms/step - loss: 0.1132 - acc: 0.9666 - val_loss: 0.0499 - val_acc: 0.9825\n",
      "Epoch 6/20\n",
      "2000/2000 [==============================] - 132s 66ms/step - loss: 0.1151 - acc: 0.9671 - val_loss: 0.0586 - val_acc: 0.9822\n",
      "Epoch 7/20\n",
      "2000/2000 [==============================] - 131s 66ms/step - loss: 0.1062 - acc: 0.9699 - val_loss: 0.0610 - val_acc: 0.9807\n",
      "Epoch 8/20\n",
      "2000/2000 [==============================] - 132s 66ms/step - loss: 0.1052 - acc: 0.9703 - val_loss: 0.0599 - val_acc: 0.9826\n",
      "Epoch 9/20\n",
      "2000/2000 [==============================] - 131s 65ms/step - loss: 0.1040 - acc: 0.9714 - val_loss: 0.0675 - val_acc: 0.9805\n",
      "Epoch 10/20\n",
      "2000/2000 [==============================] - 131s 65ms/step - loss: 0.1065 - acc: 0.9703 - val_loss: 0.0464 - val_acc: 0.9870\n",
      "Epoch 11/20\n",
      "2000/2000 [==============================] - 135s 67ms/step - loss: 0.1073 - acc: 0.9707 - val_loss: 0.0435 - val_acc: 0.9864\n",
      "Epoch 12/20\n",
      "2000/2000 [==============================] - 137s 68ms/step - loss: 0.1035 - acc: 0.9711 - val_loss: 0.0433 - val_acc: 0.9856\n",
      "Epoch 13/20\n",
      "2000/2000 [==============================] - 141s 70ms/step - loss: 0.0990 - acc: 0.9732 - val_loss: 0.0469 - val_acc: 0.9853\n",
      "Epoch 14/20\n",
      "2000/2000 [==============================] - 143s 71ms/step - loss: 0.1038 - acc: 0.9719 - val_loss: 0.0523 - val_acc: 0.9853\n",
      "Epoch 15/20\n",
      "2000/2000 [==============================] - 140s 70ms/step - loss: 0.1047 - acc: 0.9713 - val_loss: 0.0471 - val_acc: 0.9865\n",
      "Epoch 16/20\n",
      "2000/2000 [==============================] - 136s 68ms/step - loss: 0.1049 - acc: 0.9721 - val_loss: 0.0560 - val_acc: 0.9843\n",
      "Epoch 17/20\n",
      "2000/2000 [==============================] - 133s 67ms/step - loss: 0.1027 - acc: 0.9713 - val_loss: 0.0537 - val_acc: 0.9846\n",
      "Epoch 18/20\n",
      "2000/2000 [==============================] - 135s 68ms/step - loss: 0.1043 - acc: 0.9705 - val_loss: 0.0578 - val_acc: 0.9829\n",
      "Epoch 19/20\n",
      "2000/2000 [==============================] - 144s 72ms/step - loss: 0.1045 - acc: 0.9716 - val_loss: 0.0502 - val_acc: 0.9845\n",
      "Epoch 20/20\n",
      "2000/2000 [==============================] - 145s 72ms/step - loss: 0.1010 - acc: 0.9719 - val_loss: 0.0489 - val_acc: 0.9862\n"
     ]
    }
   ],
   "metadata": {}
  },
  {
   "cell_type": "code",
   "execution_count": 31,
   "source": [
    "plt.imshow(x_test[99])\r\n",
    "plt.show()"
   ],
   "outputs": [
    {
     "output_type": "display_data",
     "data": {
      "image/png": "[encoded data removed]",
      "text/plain": [
       "<Figure size 432x288 with 1 Axes>"
      ]
     },
     "metadata": {
      "needs_background": "light"
     }
    }
   ],
   "metadata": {}
  },
  {
   "cell_type": "code",
   "execution_count": 32,
   "source": [
    "test = x_test[99].reshape(-1, 28, 28, 1)"
   ],
   "outputs": [],
   "metadata": {}
  },
  {
   "cell_type": "code",
   "execution_count": 33,
   "source": [
    "model.predict_classes(test)"
   ],
   "outputs": [
    {
     "output_type": "execute_result",
     "data": {
      "text/plain": [
       "array([9], dtype=int64)"
      ]
     },
     "metadata": {},
     "execution_count": 33
    }
   ],
   "metadata": {}
  },
  {
   "cell_type": "code",
   "execution_count": 17,
   "source": [
    "model.save('Digit Recognition Model.h5')"
   ],
   "outputs": [],
   "metadata": {}
  },
  {
   "cell_type": "code",
   "execution_count": null,
   "source": [],
   "outputs": [],
   "metadata": {}
  }
 ],
 "metadata": {
  "interpreter": {
   "hash": "b92cb4853351dde00387679858986c3dcc789f03220d1bc1c8877d6e8fe53f0a"
  },
  "kernelspec": {
   "name": "python3",
   "display_name": "Python 3.7.4 64-bit"
  },
  "language_info": {
   "codemirror_mode": {
    "name": "ipython",
    "version": 3
   },
   "file_extension": ".py",
   "mimetype": "text/x-python",
   "name": "python",
   "nbconvert_exporter": "python",
   "pygments_lexer": "ipython3",
   "version": "3.7.4"
  }
 },
 "nbformat": 4,
 "nbformat_minor": 2
}